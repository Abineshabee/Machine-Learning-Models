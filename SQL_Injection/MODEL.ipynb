{
 "cells": [
  {
   "cell_type": "code",
   "execution_count": 19,
   "id": "21e184c5-675e-4272-bead-18f87802583a",
   "metadata": {},
   "outputs": [
    {
     "name": "stdout",
     "output_type": "stream",
     "text": [
      "MODEL_PREDICTION  : 1\n",
      "PREDICTION_PROBA  : [[0.25042898 0.74957102]]\n",
      "CLASS             : [ 1 ] \n",
      "CLASS_PROBA       : 74.95710226265543\n",
      "SQL_Injection     : True\n"
     ]
    }
   ],
   "source": [
    "from sklearn.feature_extraction.text import TfidfVectorizer\n",
    "import joblib\n",
    "import os\n",
    "\n",
    "\n",
    "class Model:\n",
    "    \n",
    "    def __init__(self):\n",
    "        base_path = os.path.dirname(\"./\")\n",
    "        \n",
    "        vectorizer_path = os.path.join(base_path, 'vectorizer.pkl')\n",
    "        self.vectorizer = joblib.load(vectorizer_path)\n",
    "        \n",
    "        model_path = os.path.join(base_path, 'my_model.pkl')\n",
    "        self.model = joblib.load(model_path)\n",
    "\n",
    "    def predict(self, single_query):\n",
    "        single_query_transformed = self.vectorizer.transform(single_query)\n",
    "        return self.model.predict(single_query_transformed)\n",
    "        \n",
    "    def predict_proba(self, single_query):\n",
    "        single_query_transformed = self.vectorizer.transform(single_query)\n",
    "        return self.model.predict_proba(single_query_transformed)\n",
    "\n",
    "if __name__ == \"__main__\":\n",
    "    model_instance = Model()\n",
    "    \n",
    "    sample_input = [\"SELECT * F 2@@@@ROM users --  #;\"]\n",
    "    \n",
    "    prediction = model_instance.predict(sample_input)\n",
    "\n",
    "    prediction_proba = model_instance.predict_proba(sample_input)\n",
    "    \n",
    "    print(f\"MODEL_PREDICTION  : {prediction[0]}\")\n",
    "    print(f\"PREDICTION_PROBA  : {prediction_proba}\")\n",
    "\n",
    "    if prediction_proba[0][0] > prediction_proba[0][1] :\n",
    "        print(f\"CLASS             : [ 0 ] \")\n",
    "        print(f\"CLASS_PROBA       : { ( prediction_proba[0][0] ) * 100 }\")\n",
    "\n",
    "    else :\n",
    "        print(f\"CLASS             : [ 1 ] \")\n",
    "        print(f\"CLASS_PROBA       : { ( prediction_proba[0][1] ) * 100 }\")\n",
    "    \n",
    "    # Interpret the prediction\n",
    "    if prediction[0] == 1:\n",
    "        print(f\"SQL_Injection     : True\")\n",
    "    else:\n",
    "        print(f\"SQL_Injection     : False\")\n"
   ]
  },
  {
   "cell_type": "code",
   "execution_count": null,
   "id": "58f8a0d7-8631-42f3-b2eb-d70ee08fd89d",
   "metadata": {},
   "outputs": [],
   "source": []
  }
 ],
 "metadata": {
  "kernelspec": {
   "display_name": "Python 3 (ipykernel)",
   "language": "python",
   "name": "python3"
  },
  "language_info": {
   "codemirror_mode": {
    "name": "ipython",
    "version": 3
   },
   "file_extension": ".py",
   "mimetype": "text/x-python",
   "name": "python",
   "nbconvert_exporter": "python",
   "pygments_lexer": "ipython3",
   "version": "3.12.3"
  }
 },
 "nbformat": 4,
 "nbformat_minor": 5
}
